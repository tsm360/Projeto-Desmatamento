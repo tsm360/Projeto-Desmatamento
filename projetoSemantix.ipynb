{
  "nbformat": 4,
  "nbformat_minor": 0,
  "metadata": {
    "colab": {
      "provenance": []
    },
    "kernelspec": {
      "name": "python3",
      "display_name": "Python 3"
    },
    "language_info": {
      "name": "python"
    }
  },
  "cells": [
    {
      "cell_type": "code",
      "execution_count": null,
      "metadata": {
        "colab": {
          "base_uri": "https://localhost:8080/"
        },
        "id": "F60_Zx9ADLMR",
        "outputId": "2e588e58-b80e-4941-e253-c461eaa5990c"
      },
      "outputs": [
        {
          "output_type": "stream",
          "name": "stdout",
          "text": [
            "Requirement already satisfied: pyspark in /usr/local/lib/python3.11/dist-packages (3.5.1)\n",
            "Requirement already satisfied: py4j==0.10.9.7 in /usr/local/lib/python3.11/dist-packages (from pyspark) (0.10.9.7)\n"
          ]
        }
      ],
      "source": [
        "! pip install pyspark"
      ]
    },
    {
      "cell_type": "code",
      "source": [
        "import pyspark\n",
        "from pyspark.sql import SparkSession\n",
        "from pyspark.sql.functions import *\n",
        "from pyspark.sql.types import *\n",
        "from pyspark.ml.feature import MinMaxScaler,VectorAssembler,StringIndexer\n",
        "from pyspark.ml.regression import LinearRegression\n",
        "from pyspark.ml.evaluation import RegressionEvaluator\n",
        "from pyspark.ml.clustering import KMeans"
      ],
      "metadata": {
        "id": "_Icjv7d0EtDY"
      },
      "execution_count": 1,
      "outputs": []
    },
    {
      "cell_type": "code",
      "source": [
        "spark = SparkSession.builder.getOrCreate()"
      ],
      "metadata": {
        "id": "VGYUlL86Foua"
      },
      "execution_count": 2,
      "outputs": []
    },
    {
      "cell_type": "code",
      "source": [
        "# fazendo a leitura do arquivo csv que foi armazenado no drive\n",
        "df = spark.read.option(\"header\",\"true\").option(\"inferSchema\",\"true\").csv(\"/content/drive/MyDrive/Projeto Semantix/municipio_bioma.csv\")\n",
        "df.orderBy(col(\"ano\")).show(n=5,truncate=False)"
      ],
      "metadata": {
        "colab": {
          "base_uri": "https://localhost:8080/"
        },
        "id": "E728EJejFQT7",
        "outputId": "14616407-9ae7-422a-8af3-fdf689c8242b"
      },
      "execution_count": 3,
      "outputs": [
        {
          "output_type": "stream",
          "name": "stdout",
          "text": [
            "+----+------------+--------------+-----------+---------+-----------------+---------------------+-----------+\n",
            "|ano |id_municipio|bioma         |area_total |desmatado|vegetacao_natural|nao_vegetacao_natural|hidrografia|\n",
            "+----+------------+--------------+-----------+---------+-----------------+---------------------+-----------+\n",
            "|2000|2932309     |Mata Atlântica|176.76153  |79.1     |96.5             |0.0                  |1.2        |\n",
            "|2000|5106505     |Pantanal      |13924.14199|581.0    |12493.9          |0.0                  |849.2      |\n",
            "|2000|3540309     |Mata Atlântica|139.1168   |119.7    |18.6             |0.0                  |0.8        |\n",
            "|2000|5005608     |Pantanal      |1989.49291 |131.8    |1831.4           |0.0                  |26.3       |\n",
            "|2000|4107850     |Mata Atlântica|241.29278  |183.8    |57.5             |0.0                  |0.0        |\n",
            "+----+------------+--------------+-----------+---------+-----------------+---------------------+-----------+\n",
            "only showing top 5 rows\n",
            "\n"
          ]
        }
      ]
    },
    {
      "cell_type": "code",
      "source": [
        "# fazendo a exclusão de qualquer registro que possua algum valor nulo registrado\n",
        "df = df.dropna()"
      ],
      "metadata": {
        "id": "bsDb5VEzHvcx"
      },
      "execution_count": 4,
      "outputs": []
    },
    {
      "cell_type": "code",
      "source": [
        "# removendo registros com valores duplicados\n",
        "df = df.dropDuplicates()"
      ],
      "metadata": {
        "id": "epr_tgm1IGpn"
      },
      "execution_count": 5,
      "outputs": []
    },
    {
      "cell_type": "code",
      "source": [
        "# criação de código numérico para o bioma\n",
        "indexador = StringIndexer(inputCol = \"bioma\",outputCol=\"codigo_bioma\")\n",
        "modelo = indexador.fit(df)\n",
        "df_codigo = modelo.transform(df)\n",
        "df_codigo.show(n=5,truncate=False)"
      ],
      "metadata": {
        "colab": {
          "base_uri": "https://localhost:8080/"
        },
        "id": "EgQHQzy9jZGF",
        "outputId": "eb94742b-5b28-4953-a601-735fbda79898"
      },
      "execution_count": 6,
      "outputs": [
        {
          "output_type": "stream",
          "name": "stdout",
          "text": [
            "+----+------------+--------+----------+---------+-----------------+---------------------+-----------+------------+\n",
            "|ano |id_municipio|bioma   |area_total|desmatado|vegetacao_natural|nao_vegetacao_natural|hidrografia|codigo_bioma|\n",
            "+----+------------+--------+----------+---------+-----------------+---------------------+-----------+------------+\n",
            "|2014|5105234     |Pantanal|35.75365  |7.0      |28.1             |0.0                  |0.7        |5.0         |\n",
            "|2003|5002159     |Pantanal|32.16373  |0.4      |30.1             |0.0                  |1.7        |5.0         |\n",
            "|2022|4305850     |Pampa   |160.49656 |127.7    |32.8             |0.0                  |0.0        |4.0         |\n",
            "|2007|4307005     |Pampa   |8.23191   |7.3      |0.9              |0.0                  |0.0        |4.0         |\n",
            "|2020|4305975     |Pampa   |350.72111 |305.1    |45.6             |0.0                  |0.0        |4.0         |\n",
            "+----+------------+--------+----------+---------+-----------------+---------------------+-----------+------------+\n",
            "only showing top 5 rows\n",
            "\n"
          ]
        }
      ]
    },
    {
      "cell_type": "code",
      "source": [
        "# criação de vetor de características contendo os campos: area_total,desmatado,vegetacao_natural,nao_vegetacao_natural e hidrografia\n",
        "montar_vetor = VectorAssembler(inputCols=[\"area_total\",\"codigo_bioma\",\"vegetacao_natural\",\"nao_vegetacao_natural\",\"hidrografia\"], outputCol=\"caracteristicas\")\n",
        "df_vetor = montar_vetor.transform(df_codigo)\n",
        "df_vetor.show(n=5,truncate=False)"
      ],
      "metadata": {
        "colab": {
          "base_uri": "https://localhost:8080/"
        },
        "id": "2HWrIQw3Jt-F",
        "outputId": "265569d9-916e-427d-a511-2618e1a402aa"
      },
      "execution_count": 7,
      "outputs": [
        {
          "output_type": "stream",
          "name": "stdout",
          "text": [
            "+----+------------+--------+----------+---------+-----------------+---------------------+-----------+------------+----------------------------+\n",
            "|ano |id_municipio|bioma   |area_total|desmatado|vegetacao_natural|nao_vegetacao_natural|hidrografia|codigo_bioma|caracteristicas             |\n",
            "+----+------------+--------+----------+---------+-----------------+---------------------+-----------+------------+----------------------------+\n",
            "|2014|5105234     |Pantanal|35.75365  |7.0      |28.1             |0.0                  |0.7        |5.0         |[35.75365,5.0,28.1,0.0,0.7] |\n",
            "|2003|5002159     |Pantanal|32.16373  |0.4      |30.1             |0.0                  |1.7        |5.0         |[32.16373,5.0,30.1,0.0,1.7] |\n",
            "|2022|4305850     |Pampa   |160.49656 |127.7    |32.8             |0.0                  |0.0        |4.0         |[160.49656,4.0,32.8,0.0,0.0]|\n",
            "|2007|4307005     |Pampa   |8.23191   |7.3      |0.9              |0.0                  |0.0        |4.0         |[8.23191,4.0,0.9,0.0,0.0]   |\n",
            "|2020|4305975     |Pampa   |350.72111 |305.1    |45.6             |0.0                  |0.0        |4.0         |[350.72111,4.0,45.6,0.0,0.0]|\n",
            "+----+------------+--------+----------+---------+-----------------+---------------------+-----------+------------+----------------------------+\n",
            "only showing top 5 rows\n",
            "\n"
          ]
        }
      ]
    },
    {
      "cell_type": "code",
      "source": [
        "# normalizando as coracterísticas do vetor\n",
        "scaler = MinMaxScaler(inputCol=\"caracteristicas\",outputCol=\"caracteristicas_normalizadas\")\n",
        "modelo = scaler.fit(df_vetor)\n",
        "df_vetor_normalizado = modelo.transform(df_vetor)\n",
        "df_vetor_normalizado.show(n=5,truncate=False)"
      ],
      "metadata": {
        "colab": {
          "base_uri": "https://localhost:8080/"
        },
        "id": "pGnJvfS2j5AT",
        "outputId": "a9511af2-ea87-4482-e559-3fe7902f8320"
      },
      "execution_count": 8,
      "outputs": [
        {
          "output_type": "stream",
          "name": "stdout",
          "text": [
            "+----+------------+--------+----------+---------+-----------------+---------------------+-----------+------------+----------------------------+---------------------------------------------------------------------------+\n",
            "|ano |id_municipio|bioma   |area_total|desmatado|vegetacao_natural|nao_vegetacao_natural|hidrografia|codigo_bioma|caracteristicas             |caracteristicas_normalizadas                                               |\n",
            "+----+------------+--------+----------+---------+-----------------+---------------------+-----------+------------+----------------------------+---------------------------------------------------------------------------+\n",
            "|2014|5105234     |Pantanal|35.75365  |7.0      |28.1             |0.0                  |0.7        |5.0         |[35.75365,5.0,28.1,0.0,0.7] |[2.2418572989648907E-4,1.0,2.9818560968096106E-4,0.0,1.5554864228256522E-4]|\n",
            "|2003|5002159     |Pantanal|32.16373  |0.4      |30.1             |0.0                  |1.7        |5.0         |[32.16373,5.0,30.1,0.0,1.7] |[2.0167589284572632E-4,1.0,3.1135053726069443E-4,0.0,3.7776098840051556E-4]|\n",
            "|2022|4305850     |Pampa   |160.49656 |127.7    |32.8             |0.0                  |0.0        |4.0         |[160.49656,4.0,32.8,0.0,0.0]|[0.001006359866740197,0.8,3.2912318949333456E-4,0.0,0.0]                   |\n",
            "|2007|4307005     |Pampa   |8.23191   |7.3      |0.9              |0.0                  |0.0        |4.0         |[8.23191,4.0,0.9,0.0,0.0]   |[5.161645739084561E-5,0.8,1.1914259459658709E-4,0.0,0.0]                   |\n",
            "|2020|4305975     |Pampa   |350.72111 |305.1    |45.6             |0.0                  |0.0        |4.0         |[350.72111,4.0,45.6,0.0,0.0]|[0.002199122831807573,0.8,4.1337872600362814E-4,0.0,0.0]                   |\n",
            "+----+------------+--------+----------+---------+-----------------+---------------------+-----------+------------+----------------------------+---------------------------------------------------------------------------+\n",
            "only showing top 5 rows\n",
            "\n"
          ]
        }
      ]
    },
    {
      "cell_type": "code",
      "source": [
        "# calculando algumas correlações entre variáveis\n",
        "print(\"Correlação area_total x hidrografia: \",df_vetor_normalizado.corr(\"area_total\",\"hidrografia\"))\n",
        "print(\"Correlação area_total x desmatado: \",df_vetor_normalizado.corr(\"area_total\",\"desmatado\"))\n",
        "print(\"Correlação area_total x vegetacao_natural: \",df_vetor_normalizado.corr(\"area_total\",\"vegetacao_natural\"))\n",
        "print(\"Correlação vegetacao_natural x hidrografia: \",df_vetor_normalizado.corr(\"vegetacao_natural\",\"hidrografia\"))\n",
        "print(\"Correlação vegetacao_natural x desmatado: \",df_vetor_normalizado.corr(\"vegetacao_natural\",\"desmatado\"))\n",
        "print(\"Correlação desmatado x hidrografia: \",df_vetor_normalizado.corr(\"desmatado\",\"hidrografia\"))"
      ],
      "metadata": {
        "colab": {
          "base_uri": "https://localhost:8080/"
        },
        "id": "jSCTwdmtlOtL",
        "outputId": "82d6520f-98cf-4715-b52f-c6438f38f7cf"
      },
      "execution_count": 9,
      "outputs": [
        {
          "output_type": "stream",
          "name": "stdout",
          "text": [
            "Correlação area_total x hidrografia:  0.6260623852417644\n",
            "Correlação area_total x desmatado:  0.42240990479613616\n",
            "Correlação area_total x vegetacao_natural:  0.9862583300790609\n",
            "Correlação vegetacao_natural x hidrografia:  0.6030578310584225\n",
            "Correlação vegetacao_natural x desmatado:  0.2908383963616296\n",
            "Correlação desmatado x hidrografia:  0.1620133792871903\n"
          ]
        }
      ]
    },
    {
      "cell_type": "code",
      "source": [
        "# aplicando modelo de regressão linear para descobrir valores da coluna \"desmatado\" e posteriormente verificando a qualidade deste modelo de\n",
        "# regressão linear\n",
        "test_data,train_data = df_vetor_normalizado.randomSplit([0.3,0.7],seed=42)\n",
        "reglin = LinearRegression(featuresCol=\"caracteristicas_normalizadas\",labelCol=\"desmatado\")\n",
        "modelo = reglin.fit(train_data)\n",
        "df_reglin = modelo.evaluate(test_data)\n",
        "\n",
        "print(df_reglin.r2)\n",
        "print(df_reglin.rootMeanSquaredError)\n",
        "\n"
      ],
      "metadata": {
        "colab": {
          "base_uri": "https://localhost:8080/"
        },
        "id": "XqfFbheAnSGG",
        "outputId": "364a19a3-0db4-4724-b83b-2bca5803e41e"
      },
      "execution_count": 10,
      "outputs": [
        {
          "output_type": "stream",
          "name": "stdout",
          "text": [
            "0.9999999985447448\n",
            "0.029077619440474343\n"
          ]
        }
      ]
    },
    {
      "cell_type": "code",
      "source": [
        "# agrupando os dados em 3 conjuntos\n",
        "kmeans = KMeans(featuresCol=\"caracteristicas_normalizadas\",k=3)\n",
        "modelo = kmeans.fit(df_vetor_normalizado)\n",
        "df_kmeans = modelo.transform(df_vetor_normalizado)\n",
        "df_kmeans.show(n=5,truncate=False)"
      ],
      "metadata": {
        "colab": {
          "base_uri": "https://localhost:8080/"
        },
        "id": "Xw5ubQrls-Vl",
        "outputId": "6d1621b2-c63e-439a-c8dd-ad3439b6e01e"
      },
      "execution_count": 11,
      "outputs": [
        {
          "output_type": "stream",
          "name": "stdout",
          "text": [
            "+----+------------+--------+----------+---------+-----------------+---------------------+-----------+------------+----------------------------+---------------------------------------------------------------------------+----------+\n",
            "|ano |id_municipio|bioma   |area_total|desmatado|vegetacao_natural|nao_vegetacao_natural|hidrografia|codigo_bioma|caracteristicas             |caracteristicas_normalizadas                                               |prediction|\n",
            "+----+------------+--------+----------+---------+-----------------+---------------------+-----------+------------+----------------------------+---------------------------------------------------------------------------+----------+\n",
            "|2014|5105234     |Pantanal|35.75365  |7.0      |28.1             |0.0                  |0.7        |5.0         |[35.75365,5.0,28.1,0.0,0.7] |[2.2418572989648907E-4,1.0,2.9818560968096106E-4,0.0,1.5554864228256522E-4]|0         |\n",
            "|2003|5002159     |Pantanal|32.16373  |0.4      |30.1             |0.0                  |1.7        |5.0         |[32.16373,5.0,30.1,0.0,1.7] |[2.0167589284572632E-4,1.0,3.1135053726069443E-4,0.0,3.7776098840051556E-4]|0         |\n",
            "|2022|4305850     |Pampa   |160.49656 |127.7    |32.8             |0.0                  |0.0        |4.0         |[160.49656,4.0,32.8,0.0,0.0]|[0.001006359866740197,0.8,3.2912318949333456E-4,0.0,0.0]                   |0         |\n",
            "|2007|4307005     |Pampa   |8.23191   |7.3      |0.9              |0.0                  |0.0        |4.0         |[8.23191,4.0,0.9,0.0,0.0]   |[5.161645739084561E-5,0.8,1.1914259459658709E-4,0.0,0.0]                   |0         |\n",
            "|2020|4305975     |Pampa   |350.72111 |305.1    |45.6             |0.0                  |0.0        |4.0         |[350.72111,4.0,45.6,0.0,0.0]|[0.002199122831807573,0.8,4.1337872600362814E-4,0.0,0.0]                   |0         |\n",
            "+----+------------+--------+----------+---------+-----------------+---------------------+-----------+------------+----------------------------+---------------------------------------------------------------------------+----------+\n",
            "only showing top 5 rows\n",
            "\n"
          ]
        }
      ]
    },
    {
      "cell_type": "code",
      "source": [
        "# analisando a média de desamatamento de cada bioma\n",
        "df_kmeans.groupBy(\"bioma\").agg(avg(\"desmatado\").alias(\"media_desmatamento_por_bioma\")).orderBy(desc(\"media_desmatamento_por_bioma\")).show()"
      ],
      "metadata": {
        "colab": {
          "base_uri": "https://localhost:8080/"
        },
        "id": "ox1i54Qt7eIn",
        "outputId": "2d38eec7-009f-4328-e8d2-e8bb92c4f556"
      },
      "execution_count": 12,
      "outputs": [
        {
          "output_type": "stream",
          "name": "stdout",
          "text": [
            "+--------------+----------------------------+\n",
            "|         bioma|media_desmatamento_por_bioma|\n",
            "+--------------+----------------------------+\n",
            "|      Amazônia|           1196.150715563504|\n",
            "|      Pantanal|          1047.8496212121213|\n",
            "|       Cerrado|           626.2259537101687|\n",
            "|         Pampa|          436.44903985507233|\n",
            "|      Caatinga|           272.7764750482499|\n",
            "|Mata Atlântica|           249.7814493458739|\n",
            "+--------------+----------------------------+\n",
            "\n"
          ]
        }
      ]
    },
    {
      "cell_type": "code",
      "source": [
        "# maior registro de desmatamento por bioma\n",
        "df_kmeans.groupBy(\"bioma\").agg(max(\"desmatado\").alias(\"maior_desmatamento_por_bioma\")).orderBy(desc(\"maior_desmatamento_por_bioma\")).show()"
      ],
      "metadata": {
        "colab": {
          "base_uri": "https://localhost:8080/"
        },
        "id": "mj6SvqrZ_OWb",
        "outputId": "8378dc57-a4a3-49aa-ee0f-1975b97ab359"
      },
      "execution_count": 13,
      "outputs": [
        {
          "output_type": "stream",
          "name": "stdout",
          "text": [
            "+--------------+----------------------------+\n",
            "|         bioma|maior_desmatamento_por_bioma|\n",
            "+--------------+----------------------------+\n",
            "|      Amazônia|                     21299.1|\n",
            "|       Cerrado|                     14114.0|\n",
            "|      Pantanal|                      8164.2|\n",
            "|         Pampa|                      4213.9|\n",
            "|Mata Atlântica|                      3229.1|\n",
            "|      Caatinga|                      2666.7|\n",
            "+--------------+----------------------------+\n",
            "\n"
          ]
        }
      ]
    },
    {
      "cell_type": "code",
      "source": [
        "# media de desmatamentos por ano\n",
        "df_kmeans.groupBy(\"ano\").agg(avg(col(\"desmatado\")).alias(\"media_desmatamento_por_ano\")).orderBy(desc(\"media_desmatamento_por_ano\")).show()"
      ],
      "metadata": {
        "colab": {
          "base_uri": "https://localhost:8080/"
        },
        "id": "pyjZEDTJFOn9",
        "outputId": "45479e46-c5b6-4f52-da8f-a034df1e1749"
      },
      "execution_count": 14,
      "outputs": [
        {
          "output_type": "stream",
          "name": "stdout",
          "text": [
            "+----+--------------------------+\n",
            "| ano|media_desmatamento_por_ano|\n",
            "+----+--------------------------+\n",
            "|2023|         474.0101285189715|\n",
            "|2022|        470.31583537331704|\n",
            "|2021|         465.9761474908206|\n",
            "|2020|          461.984791921665|\n",
            "|2019|        458.49086597307263|\n",
            "|2018|         455.2024632802942|\n",
            "|2017|        452.27423500611985|\n",
            "|2016|        449.38070685434536|\n",
            "|2015|        446.35899632802955|\n",
            "|2014|         442.9605875152991|\n",
            "|2013|         439.3269736842102|\n",
            "|2012|         435.4171664626681|\n",
            "|2011|         432.3534730722155|\n",
            "|2010|        428.90783353733195|\n",
            "|2009|         425.3274938800487|\n",
            "|2008|         421.7386168910647|\n",
            "|2007|         415.9135862913094|\n",
            "|2006|        410.30154528763745|\n",
            "|2005|          403.451835985311|\n",
            "|2004|        394.76268359853134|\n",
            "+----+--------------------------+\n",
            "only showing top 20 rows\n",
            "\n"
          ]
        }
      ]
    },
    {
      "cell_type": "code",
      "source": [
        "# maior desmatamento por ano\n",
        "df_kmeans.groupBy(\"ano\").agg(max(col(\"desmatado\")).alias(\"maior_desmatamento_por_ano\")).orderBy(desc(\"maior_desmatamento_por_ano\")).show(25)"
      ],
      "metadata": {
        "colab": {
          "base_uri": "https://localhost:8080/"
        },
        "id": "CvbhJxDiFrzB",
        "outputId": "1f6fe6ba-95cf-4051-d433-872f3d8c40e2"
      },
      "execution_count": 15,
      "outputs": [
        {
          "output_type": "stream",
          "name": "stdout",
          "text": [
            "+----+--------------------------+\n",
            "| ano|maior_desmatamento_por_ano|\n",
            "+----+--------------------------+\n",
            "|2023|                   21299.1|\n",
            "|2022|                   20984.9|\n",
            "|2021|                   20450.4|\n",
            "|2020|                   19873.4|\n",
            "|2019|                   19264.6|\n",
            "|2018|                   18719.7|\n",
            "|2017|                   18442.6|\n",
            "|2016|                   18205.9|\n",
            "|2015|                   17891.0|\n",
            "|2014|                   17691.6|\n",
            "|2013|                   17538.8|\n",
            "|2012|                   17317.5|\n",
            "|2011|                   17149.8|\n",
            "|2010|                   17010.4|\n",
            "|2009|                   16660.8|\n",
            "|2008|                   16221.1|\n",
            "|2007|                   15462.3|\n",
            "|2006|                   14585.2|\n",
            "|2005|                   13821.4|\n",
            "|2004|                   13551.9|\n",
            "|2003|                   13291.7|\n",
            "|2002|                   13031.5|\n",
            "|2001|                   12812.7|\n",
            "|2000|                   12593.9|\n",
            "+----+--------------------------+\n",
            "\n"
          ]
        }
      ]
    },
    {
      "cell_type": "code",
      "source": [
        "# soma de desmatamento por bioma\n",
        "df_kmeans.groupBy(\"bioma\").agg(sum(col(\"desmatado\")).alias(\"soma_desmatamento_por_bioma\")).orderBy(desc(\"soma_desmatamento_por_bioma\")).show()"
      ],
      "metadata": {
        "colab": {
          "base_uri": "https://localhost:8080/"
        },
        "id": "4Nflfgy8Ge66",
        "outputId": "1309fada-517e-4091-bf91-dc72bbf27e02"
      },
      "execution_count": 17,
      "outputs": [
        {
          "output_type": "stream",
          "name": "stdout",
          "text": [
            "+--------------+---------------------------+\n",
            "|         bioma|soma_desmatamento_por_bioma|\n",
            "+--------------+---------------------------+\n",
            "|       Cerrado|       2.1537163000000123E7|\n",
            "|Mata Atlântica|       1.8481828999999903E7|\n",
            "|      Amazônia|        1.604755799999997E7|\n",
            "|      Caatinga|          7914882.200000019|\n",
            "|         Pampa|         2409198.6999999993|\n",
            "|      Pantanal|          553264.6000000001|\n",
            "+--------------+---------------------------+\n",
            "\n"
          ]
        }
      ]
    },
    {
      "cell_type": "code",
      "source": [
        "# contagem de registros por bioma\n",
        "df_kmeans.groupBy(\"bioma\").agg(count(col(\"bioma\")).alias(\"contagem_por_bioma\")).orderBy(desc(\"contagem_por_bioma\")).show()"
      ],
      "metadata": {
        "colab": {
          "base_uri": "https://localhost:8080/"
        },
        "id": "hxpoiypnHrVb",
        "outputId": "29d757ba-45d2-4249-a74f-5fea770d40d1"
      },
      "execution_count": 18,
      "outputs": [
        {
          "output_type": "stream",
          "name": "stdout",
          "text": [
            "+--------------+------------------+\n",
            "|         bioma|contagem_por_bioma|\n",
            "+--------------+------------------+\n",
            "|Mata Atlântica|             73992|\n",
            "|       Cerrado|             34392|\n",
            "|      Caatinga|             29016|\n",
            "|      Amazônia|             13416|\n",
            "|         Pampa|              5520|\n",
            "|      Pantanal|               528|\n",
            "+--------------+------------------+\n",
            "\n"
          ]
        }
      ]
    },
    {
      "cell_type": "code",
      "source": [
        "# descobrindo os 5 municípios que possuem mais desmatamentos registrados\n",
        "df_kmeans.groupBy(\"id_municipio\").agg(max(col(\"desmatado\")).alias(\"maior_desmatamento_por_municipio\")).orderBy(desc(\"maior_desmatamento_por_municipio\")).show(5)"
      ],
      "metadata": {
        "colab": {
          "base_uri": "https://localhost:8080/"
        },
        "id": "YPWJ_7KRJ_gp",
        "outputId": "7945d8d2-9f72-4e48-eba2-c09a1279f36c"
      },
      "execution_count": 16,
      "outputs": [
        {
          "output_type": "stream",
          "name": "stdout",
          "text": [
            "+------------+--------------------------------+\n",
            "|id_municipio|maior_desmatamento_por_municipio|\n",
            "+------------+--------------------------------+\n",
            "|     1507300|                         21299.1|\n",
            "|     5007109|                         14114.0|\n",
            "|     1100205|                         12327.7|\n",
            "|     1500602|                         12224.2|\n",
            "|     2928901|                          9001.2|\n",
            "+------------+--------------------------------+\n",
            "only showing top 5 rows\n",
            "\n"
          ]
        }
      ]
    }
  ]
}